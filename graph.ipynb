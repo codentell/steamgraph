{
 "cells": [
  {
   "cell_type": "code",
   "execution_count": 170,
   "id": "765e03c5",
   "metadata": {},
   "outputs": [],
   "source": [
    "import torch\n",
    "from torch.nn import Sequential as Seq, Linear, ReLU\n",
    "import torch_geometric\n",
    "import os\n",
    "import pandas as pd\n",
    "import numpy as np\n",
    "from tqdm import tqdm"
   ]
  },
  {
   "cell_type": "code",
   "execution_count": 171,
   "id": "7eebcf7e",
   "metadata": {},
   "outputs": [],
   "source": [
    "sample_size = 8000"
   ]
  },
  {
   "cell_type": "code",
   "execution_count": 172,
   "id": "1bfb155a",
   "metadata": {},
   "outputs": [
    {
     "data": {
      "text/plain": [
       "BertModel(\n",
       "  (embeddings): BertEmbeddings(\n",
       "    (word_embeddings): Embedding(30522, 768, padding_idx=0)\n",
       "    (position_embeddings): Embedding(512, 768)\n",
       "    (token_type_embeddings): Embedding(2, 768)\n",
       "    (LayerNorm): LayerNorm((768,), eps=1e-12, elementwise_affine=True)\n",
       "    (dropout): Dropout(p=0.1, inplace=False)\n",
       "  )\n",
       "  (encoder): BertEncoder(\n",
       "    (layer): ModuleList(\n",
       "      (0-11): 12 x BertLayer(\n",
       "        (attention): BertAttention(\n",
       "          (self): BertSdpaSelfAttention(\n",
       "            (query): Linear(in_features=768, out_features=768, bias=True)\n",
       "            (key): Linear(in_features=768, out_features=768, bias=True)\n",
       "            (value): Linear(in_features=768, out_features=768, bias=True)\n",
       "            (dropout): Dropout(p=0.1, inplace=False)\n",
       "          )\n",
       "          (output): BertSelfOutput(\n",
       "            (dense): Linear(in_features=768, out_features=768, bias=True)\n",
       "            (LayerNorm): LayerNorm((768,), eps=1e-12, elementwise_affine=True)\n",
       "            (dropout): Dropout(p=0.1, inplace=False)\n",
       "          )\n",
       "        )\n",
       "        (intermediate): BertIntermediate(\n",
       "          (dense): Linear(in_features=768, out_features=3072, bias=True)\n",
       "          (intermediate_act_fn): GELUActivation()\n",
       "        )\n",
       "        (output): BertOutput(\n",
       "          (dense): Linear(in_features=3072, out_features=768, bias=True)\n",
       "          (LayerNorm): LayerNorm((768,), eps=1e-12, elementwise_affine=True)\n",
       "          (dropout): Dropout(p=0.1, inplace=False)\n",
       "        )\n",
       "      )\n",
       "    )\n",
       "  )\n",
       "  (pooler): BertPooler(\n",
       "    (dense): Linear(in_features=768, out_features=768, bias=True)\n",
       "    (activation): Tanh()\n",
       "  )\n",
       ")"
      ]
     },
     "execution_count": 172,
     "metadata": {},
     "output_type": "execute_result"
    }
   ],
   "source": [
    "from transformers import BertTokenizer, BertModel\n",
    "import torch\n",
    "\n",
    "# Load pre-trained BERT-base\n",
    "tokenizer = BertTokenizer.from_pretrained('bert-base-uncased')\n",
    "bert_model = BertModel.from_pretrained('bert-base-uncased')\n",
    "\n",
    "bert_model.eval()  # Evaluation mode (no dropout)"
   ]
  },
  {
   "cell_type": "code",
   "execution_count": 173,
   "id": "8a992ab0",
   "metadata": {},
   "outputs": [],
   "source": [
    "data = pd.read_csv('final_fantasy.csv')"
   ]
  },
  {
   "cell_type": "code",
   "execution_count": 174,
   "id": "45d8a883",
   "metadata": {},
   "outputs": [
    {
     "data": {
      "text/html": [
       "<div>\n",
       "<style scoped>\n",
       "    .dataframe tbody tr th:only-of-type {\n",
       "        vertical-align: middle;\n",
       "    }\n",
       "\n",
       "    .dataframe tbody tr th {\n",
       "        vertical-align: top;\n",
       "    }\n",
       "\n",
       "    .dataframe thead th {\n",
       "        text-align: right;\n",
       "    }\n",
       "</style>\n",
       "<table border=\"1\" class=\"dataframe\">\n",
       "  <thead>\n",
       "    <tr style=\"text-align: right;\">\n",
       "      <th></th>\n",
       "      <th>Unnamed: 0</th>\n",
       "      <th>user_steam_id</th>\n",
       "      <th>user_playtime_forever</th>\n",
       "      <th>user_playtime_2weeks</th>\n",
       "      <th>user_has_leaderboards</th>\n",
       "      <th>user_has_community_visible_stats</th>\n",
       "      <th>user_content_descriptorids</th>\n",
       "      <th>game_appid</th>\n",
       "      <th>game_name</th>\n",
       "      <th>game_developer</th>\n",
       "      <th>...</th>\n",
       "      <th>game_price</th>\n",
       "      <th>game_initialprice</th>\n",
       "      <th>game_discount</th>\n",
       "      <th>game_ccu</th>\n",
       "      <th>game_owners_estimate</th>\n",
       "      <th>game_review_ratio</th>\n",
       "      <th>genres_en</th>\n",
       "      <th>categories_en</th>\n",
       "      <th>short_description_en</th>\n",
       "      <th>detailed_description_en</th>\n",
       "    </tr>\n",
       "  </thead>\n",
       "  <tbody>\n",
       "    <tr>\n",
       "      <th>0</th>\n",
       "      <td>0</td>\n",
       "      <td>76561198060785055</td>\n",
       "      <td>7279</td>\n",
       "      <td>0.0</td>\n",
       "      <td>False</td>\n",
       "      <td>True</td>\n",
       "      <td>[2, 5]</td>\n",
       "      <td>240</td>\n",
       "      <td>Counter-Strike: Source</td>\n",
       "      <td>Valve</td>\n",
       "      <td>...</td>\n",
       "      <td>9.99</td>\n",
       "      <td>9.99</td>\n",
       "      <td>0.0</td>\n",
       "      <td>15002</td>\n",
       "      <td>10000000</td>\n",
       "      <td>0.962647</td>\n",
       "      <td>['Action']</td>\n",
       "      <td>['Multi-Player', 'Cross-Platform Multiplayer',...</td>\n",
       "      <td>Counter-Strike: Source blends Counter-Strike's...</td>\n",
       "      <td>THE NEXT INSTALLMENT OF THE WORLD'S # 1 ONLINE...</td>\n",
       "    </tr>\n",
       "    <tr>\n",
       "      <th>1</th>\n",
       "      <td>1</td>\n",
       "      <td>76561198060785055</td>\n",
       "      <td>0</td>\n",
       "      <td>0.0</td>\n",
       "      <td>False</td>\n",
       "      <td>True</td>\n",
       "      <td>[0]</td>\n",
       "      <td>12210</td>\n",
       "      <td>Grand Theft Auto IV: The Complete Edition</td>\n",
       "      <td>Rockstar North, Rockstar Toronto</td>\n",
       "      <td>...</td>\n",
       "      <td>19.99</td>\n",
       "      <td>19.99</td>\n",
       "      <td>0.0</td>\n",
       "      <td>3464</td>\n",
       "      <td>5000000</td>\n",
       "      <td>0.823607</td>\n",
       "      <td>['Action', 'Adventure']</td>\n",
       "      <td>['Single-Player', 'Multi-Player', 'Partial Con...</td>\n",
       "      <td>Niko Bellic, Johnny Klebitz and Luis Lopez all...</td>\n",
       "      <td>Important Updates To Grand Theft Auto IV and E...</td>\n",
       "    </tr>\n",
       "    <tr>\n",
       "      <th>2</th>\n",
       "      <td>2</td>\n",
       "      <td>76561198060785055</td>\n",
       "      <td>717</td>\n",
       "      <td>0.0</td>\n",
       "      <td>True</td>\n",
       "      <td>True</td>\n",
       "      <td>[0]</td>\n",
       "      <td>620</td>\n",
       "      <td>Portal 2</td>\n",
       "      <td>Valve</td>\n",
       "      <td>...</td>\n",
       "      <td>9.99</td>\n",
       "      <td>9.99</td>\n",
       "      <td>0.0</td>\n",
       "      <td>3194</td>\n",
       "      <td>10000000</td>\n",
       "      <td>0.986921</td>\n",
       "      <td>['Action', 'Adventure']</td>\n",
       "      <td>['Single Person', 'Multiple People', 'Cooperat...</td>\n",
       "      <td>The Lifetime Test Plan is now upgraded and you...</td>\n",
       "      <td>Portal 2 creates another successor to the gran...</td>\n",
       "    </tr>\n",
       "    <tr>\n",
       "      <th>3</th>\n",
       "      <td>3</td>\n",
       "      <td>76561198060785055</td>\n",
       "      <td>4578</td>\n",
       "      <td>0.0</td>\n",
       "      <td>False</td>\n",
       "      <td>True</td>\n",
       "      <td>[0]</td>\n",
       "      <td>105600</td>\n",
       "      <td>Terraria</td>\n",
       "      <td>Re-Logic</td>\n",
       "      <td>...</td>\n",
       "      <td>9.99</td>\n",
       "      <td>9.99</td>\n",
       "      <td>0.0</td>\n",
       "      <td>38390</td>\n",
       "      <td>20000000</td>\n",
       "      <td>0.974917</td>\n",
       "      <td>['Action', 'Adventure', 'Indie', 'Rpg']</td>\n",
       "      <td>['Single-Player', 'Multi-Player', 'Pvp', 'Onli...</td>\n",
       "      <td>Dig, fight, explore, build! Nothing is impossi...</td>\n",
       "      <td>Dig, Fight, Explore, Build: The very world is ...</td>\n",
       "    </tr>\n",
       "    <tr>\n",
       "      <th>4</th>\n",
       "      <td>4</td>\n",
       "      <td>76561198060785055</td>\n",
       "      <td>0</td>\n",
       "      <td>0.0</td>\n",
       "      <td>True</td>\n",
       "      <td>True</td>\n",
       "      <td>[0]</td>\n",
       "      <td>46520</td>\n",
       "      <td>Wasteland Angel</td>\n",
       "      <td>Octane Games</td>\n",
       "      <td>...</td>\n",
       "      <td>4.99</td>\n",
       "      <td>4.99</td>\n",
       "      <td>0.0</td>\n",
       "      <td>0</td>\n",
       "      <td>50000</td>\n",
       "      <td>0.587302</td>\n",
       "      <td>['Action', 'Indie']</td>\n",
       "      <td>['Single-Player', 'Steam Achievements', 'Parti...</td>\n",
       "      <td>Wasteland Angel is a top-down twin-stick shoot...</td>\n",
       "      <td>Bummer! World War III happened and killed most...</td>\n",
       "    </tr>\n",
       "  </tbody>\n",
       "</table>\n",
       "<p>5 rows × 21 columns</p>\n",
       "</div>"
      ],
      "text/plain": [
       "   Unnamed: 0      user_steam_id  user_playtime_forever  user_playtime_2weeks  \\\n",
       "0           0  76561198060785055                   7279                   0.0   \n",
       "1           1  76561198060785055                      0                   0.0   \n",
       "2           2  76561198060785055                    717                   0.0   \n",
       "3           3  76561198060785055                   4578                   0.0   \n",
       "4           4  76561198060785055                      0                   0.0   \n",
       "\n",
       "   user_has_leaderboards  user_has_community_visible_stats  \\\n",
       "0                  False                              True   \n",
       "1                  False                              True   \n",
       "2                   True                              True   \n",
       "3                  False                              True   \n",
       "4                   True                              True   \n",
       "\n",
       "  user_content_descriptorids  game_appid  \\\n",
       "0                     [2, 5]         240   \n",
       "1                        [0]       12210   \n",
       "2                        [0]         620   \n",
       "3                        [0]      105600   \n",
       "4                        [0]       46520   \n",
       "\n",
       "                                   game_name  \\\n",
       "0                     Counter-Strike: Source   \n",
       "1  Grand Theft Auto IV: The Complete Edition   \n",
       "2                                   Portal 2   \n",
       "3                                   Terraria   \n",
       "4                            Wasteland Angel   \n",
       "\n",
       "                     game_developer  ... game_price  game_initialprice  \\\n",
       "0                             Valve  ...       9.99               9.99   \n",
       "1  Rockstar North, Rockstar Toronto  ...      19.99              19.99   \n",
       "2                             Valve  ...       9.99               9.99   \n",
       "3                          Re-Logic  ...       9.99               9.99   \n",
       "4                      Octane Games  ...       4.99               4.99   \n",
       "\n",
       "   game_discount  game_ccu  game_owners_estimate  game_review_ratio  \\\n",
       "0            0.0     15002              10000000           0.962647   \n",
       "1            0.0      3464               5000000           0.823607   \n",
       "2            0.0      3194              10000000           0.986921   \n",
       "3            0.0     38390              20000000           0.974917   \n",
       "4            0.0         0                 50000           0.587302   \n",
       "\n",
       "                                 genres_en  \\\n",
       "0                               ['Action']   \n",
       "1                  ['Action', 'Adventure']   \n",
       "2                  ['Action', 'Adventure']   \n",
       "3  ['Action', 'Adventure', 'Indie', 'Rpg']   \n",
       "4                      ['Action', 'Indie']   \n",
       "\n",
       "                                       categories_en  \\\n",
       "0  ['Multi-Player', 'Cross-Platform Multiplayer',...   \n",
       "1  ['Single-Player', 'Multi-Player', 'Partial Con...   \n",
       "2  ['Single Person', 'Multiple People', 'Cooperat...   \n",
       "3  ['Single-Player', 'Multi-Player', 'Pvp', 'Onli...   \n",
       "4  ['Single-Player', 'Steam Achievements', 'Parti...   \n",
       "\n",
       "                                short_description_en  \\\n",
       "0  Counter-Strike: Source blends Counter-Strike's...   \n",
       "1  Niko Bellic, Johnny Klebitz and Luis Lopez all...   \n",
       "2  The Lifetime Test Plan is now upgraded and you...   \n",
       "3  Dig, fight, explore, build! Nothing is impossi...   \n",
       "4  Wasteland Angel is a top-down twin-stick shoot...   \n",
       "\n",
       "                             detailed_description_en  \n",
       "0  THE NEXT INSTALLMENT OF THE WORLD'S # 1 ONLINE...  \n",
       "1  Important Updates To Grand Theft Auto IV and E...  \n",
       "2  Portal 2 creates another successor to the gran...  \n",
       "3  Dig, Fight, Explore, Build: The very world is ...  \n",
       "4  Bummer! World War III happened and killed most...  \n",
       "\n",
       "[5 rows x 21 columns]"
      ]
     },
     "execution_count": 174,
     "metadata": {},
     "output_type": "execute_result"
    }
   ],
   "source": [
    "data.head()"
   ]
  },
  {
   "cell_type": "code",
   "execution_count": 175,
   "id": "d0a8b5fe",
   "metadata": {},
   "outputs": [
    {
     "data": {
      "text/plain": [
       "'Counter-Strike: Source'"
      ]
     },
     "execution_count": 175,
     "metadata": {},
     "output_type": "execute_result"
    }
   ],
   "source": [
    "def create_game_mapper(df):\n",
    "    # Convert the two columns into a dictionary\n",
    "    game_mapper = dict(zip(df['game_appid'], df['game_name']))\n",
    "    return game_mapper\n",
    "\n",
    "# Example usage\n",
    "# Assuming you have a DataFrame named 'df' with columns 'game_appid' and 'game_name'\n",
    "game_mapper = create_game_mapper(data)\n",
    "game_mapper[240]"
   ]
  },
  {
   "cell_type": "markdown",
   "id": "a18db3c5",
   "metadata": {},
   "source": [
    "Feature Embeddings:\n",
    "- Start off with pure genre if it is good enough\n",
    "- (3 approaches) Eval pure genre approach with pure short descriptons embeddings then try combining"
   ]
  },
  {
   "cell_type": "code",
   "execution_count": 176,
   "id": "0a3b16d4",
   "metadata": {},
   "outputs": [],
   "source": [
    "data['text_for_embedding'] = ( data['short_description_en'].fillna('') + ' ' +  data['genres_en'].astype(str) )"
   ]
  },
  {
   "cell_type": "markdown",
   "id": "5895decd",
   "metadata": {},
   "source": [
    "Short Description + Genre == Token Size"
   ]
  },
  {
   "cell_type": "code",
   "execution_count": 177,
   "id": "bc167c87",
   "metadata": {},
   "outputs": [
    {
     "name": "stdout",
     "output_type": "stream",
     "text": [
      "Total number of tokens: 472731179\n"
     ]
    }
   ],
   "source": [
    "word_count = 0\n",
    "for text in data['text_for_embedding']:\n",
    "    word_count+=len(text)\n",
    "print(f'Total number of tokens: {word_count}')"
   ]
  },
  {
   "cell_type": "markdown",
   "id": "6c9d4276",
   "metadata": {},
   "source": [
    "install transformer of choice (BeRT)"
   ]
  },
  {
   "cell_type": "code",
   "execution_count": 178,
   "id": "4b41a07e",
   "metadata": {},
   "outputs": [],
   "source": [
    "def embed_text(texts, tokenizer, model, max_length=128):\n",
    "    embeddings = []\n",
    "    for text in texts:\n",
    "        inputs = tokenizer(text, return_tensors=\"pt\", truncation=True, max_length=max_length, padding='max_length')\n",
    "        with torch.no_grad():\n",
    "            outputs = model(**inputs)\n",
    "        # CLS pooling (using [CLS] token embedding)\n",
    "        cls_embedding = outputs.last_hidden_state[:, 0, :]\n",
    "        embeddings.append(cls_embedding.squeeze(0))\n",
    "    embeddings = torch.stack(embeddings)\n",
    "    return embeddings"
   ]
  },
  {
   "cell_type": "code",
   "execution_count": 179,
   "id": "b106cd7d",
   "metadata": {},
   "outputs": [
    {
     "name": "stdout",
     "output_type": "stream",
     "text": [
      "torch.Size([8000, 768])\n"
     ]
    }
   ],
   "source": [
    "game_embeddings = embed_text(data['text_for_embedding'].tolist()[:sample_size], tokenizer, bert_model)\n",
    "print(game_embeddings.shape)"
   ]
  },
  {
   "cell_type": "markdown",
   "id": "ac1b870b",
   "metadata": {},
   "source": [
    "## User/Game Node Mapping"
   ]
  },
  {
   "cell_type": "markdown",
   "id": "d6ad6b1f",
   "metadata": {},
   "source": [
    "### how to dedupe interactions\n",
    "check composite keys (user/game), if all 1s then only unique interactions"
   ]
  },
  {
   "cell_type": "code",
   "execution_count": 180,
   "id": "d41a1125",
   "metadata": {},
   "outputs": [
    {
     "data": {
      "text/plain": [
       "user_playtime_forever\n",
       "1    1996413\n",
       "Name: count, dtype: int64"
      ]
     },
     "execution_count": 180,
     "metadata": {},
     "output_type": "execute_result"
    }
   ],
   "source": [
    "data.groupby(by=['user_steam_id','game_appid']).count().reset_index()['user_playtime_forever'].value_counts()"
   ]
  },
  {
   "cell_type": "markdown",
   "id": "86c44426",
   "metadata": {},
   "source": [
    "### init mappings"
   ]
  },
  {
   "cell_type": "code",
   "execution_count": 181,
   "id": "e2e16af6",
   "metadata": {},
   "outputs": [],
   "source": [
    "# Unique users and games\n",
    "unique_users = data['user_steam_id'].unique()\n",
    "unique_games = data['game_appid'].unique()\n",
    "\n",
    "# Build mappings\n",
    "user_id_map = {user_id: idx for idx, user_id in enumerate(unique_users)}\n",
    "game_id_map = {game_id: idx + len(unique_users) for idx, game_id in enumerate(unique_games)}\n",
    "\n",
    "# How many nodes?\n",
    "num_users = len(user_id_map)\n",
    "num_games = len(game_id_map)\n",
    "num_nodes = num_users + num_games"
   ]
  },
  {
   "cell_type": "code",
   "execution_count": 182,
   "id": "6647a3e4",
   "metadata": {},
   "outputs": [
    {
     "data": {
      "text/plain": [
       "(5842, 31397, 37239)"
      ]
     },
     "execution_count": 182,
     "metadata": {},
     "output_type": "execute_result"
    }
   ],
   "source": [
    "num_users, num_games, num_nodes"
   ]
  },
  {
   "cell_type": "markdown",
   "id": "5a64bea2",
   "metadata": {},
   "source": [
    "## Building out user/game nodes\n",
    "- Approximately takes an hour to run, so we will have preloaded from our sample dataset."
   ]
  },
  {
   "cell_type": "code",
   "execution_count": 183,
   "id": "622c323c",
   "metadata": {},
   "outputs": [
    {
     "name": "stderr",
     "output_type": "stream",
     "text": [
      "Processing rows: 8000it [00:07, 1037.68it/s]\n"
     ]
    }
   ],
   "source": [
    "# build edges, load a new user to recommend games (edges user to game)\n",
    "user_nodes = []\n",
    "game_nodes = []\n",
    "for idx, row in tqdm(data.iterrows(), desc=\"Processing rows\"):\n",
    "    # get indices and append them\n",
    "    user_idx = user_id_map[row['user_steam_id']]\n",
    "    game_idx = game_id_map[row['game_appid']]\n",
    "    # print(user_idx, game_idx)\n",
    "    user_nodes.append(user_idx)\n",
    "    game_nodes.append(game_idx)\n",
    "    # print(f'User Node {user_idx} and Game Node {game_idx} were appended')\n",
    "    if idx == sample_size:\n",
    "        break"
   ]
  },
  {
   "cell_type": "markdown",
   "id": "9c4597b6",
   "metadata": {},
   "source": [
    "### Array Dimension Validation\n",
    "- Also upon running initial mapping, storing list in .npy file"
   ]
  },
  {
   "cell_type": "code",
   "execution_count": 184,
   "id": "fbe292a5",
   "metadata": {},
   "outputs": [
    {
     "data": {
      "text/plain": [
       "True"
      ]
     },
     "execution_count": 184,
     "metadata": {},
     "output_type": "execute_result"
    }
   ],
   "source": [
    "len(game_nodes)==len(user_nodes)"
   ]
  },
  {
   "cell_type": "code",
   "execution_count": 185,
   "id": "23d48780",
   "metadata": {},
   "outputs": [],
   "source": [
    "edge_index = torch.tensor([user_nodes, game_nodes], dtype=torch.long)"
   ]
  },
  {
   "cell_type": "code",
   "execution_count": 186,
   "id": "e160d92e",
   "metadata": {},
   "outputs": [
    {
     "name": "stdout",
     "output_type": "stream",
     "text": [
      "torch.Size([13842, 768])\n"
     ]
    }
   ],
   "source": [
    "user_features = np.zeros((num_users, 768))  # dummy features for users\n",
    "game_features = game_embeddings.numpy()      # real features for games\n",
    "\n",
    "# Stack vertically: first users, then games\n",
    "X = np.vstack([user_features, game_features])\n",
    "X = torch.tensor(X, dtype=torch.float)\n",
    "print(X.shape)  # (num_nodes, 768)"
   ]
  },
  {
   "cell_type": "markdown",
   "id": "928350ed",
   "metadata": {},
   "source": [
    "## attribute selection for edges"
   ]
  },
  {
   "cell_type": "markdown",
   "id": "d7930ad2",
   "metadata": {},
   "source": [
    "if we want more features, add here"
   ]
  },
  {
   "cell_type": "code",
   "execution_count": 187,
   "id": "25f58009",
   "metadata": {},
   "outputs": [
    {
     "name": "stderr",
     "output_type": "stream",
     "text": [
      "Processing rows: 1996413it [00:21, 92839.49it/s] \n"
     ]
    },
    {
     "name": "stdout",
     "output_type": "stream",
     "text": [
      "torch.Size([1996413, 1])\n"
     ]
    }
   ],
   "source": [
    "edge_attrs = []\n",
    "\n",
    "for idx, row in tqdm(data.iterrows(), desc=\"Processing rows\"):\n",
    "    playtime = row['user_playtime_forever']\n",
    "    edge_attrs.append([playtime])  # wrapping in list for 1-dim feature\n",
    "\n",
    "edge_attr = torch.tensor(edge_attrs, dtype=torch.float)\n",
    "print(edge_attr.shape)  # (num_edges, 1)"
   ]
  },
  {
   "cell_type": "markdown",
   "id": "cbe4e6b7",
   "metadata": {},
   "source": [
    "create data for geometric graph"
   ]
  },
  {
   "cell_type": "code",
   "execution_count": 188,
   "id": "97eee5ca",
   "metadata": {},
   "outputs": [
    {
     "name": "stdout",
     "output_type": "stream",
     "text": [
      "Data(x=[13842, 768], edge_index=[2, 8001], edge_y=[1996413, 1])\n"
     ]
    }
   ],
   "source": [
    "from torch_geometric.data import Data\n",
    "\n",
    "graph = Data(\n",
    "    x=X,\n",
    "    edge_index=edge_index,\n",
    "    edge_y=edge_attr\n",
    ")\n",
    "\n",
    "print(graph)"
   ]
  },
  {
   "cell_type": "markdown",
   "id": "d5054629",
   "metadata": {},
   "source": [
    "test/train/val split"
   ]
  },
  {
   "cell_type": "code",
   "execution_count": 189,
   "id": "48162d99",
   "metadata": {},
   "outputs": [
    {
     "name": "stdout",
     "output_type": "stream",
     "text": [
      "Data(x=[13842, 768], edge_index=[2, 13602], edge_y=[1996413, 1], edge_label=[6801], edge_label_index=[2, 6801])\n",
      "Data(x=[13842, 768], edge_index=[2, 13602], edge_y=[1996413, 1], edge_label=[800], edge_label_index=[2, 800])\n",
      "Data(x=[13842, 768], edge_index=[2, 14402], edge_y=[1996413, 1], edge_label=[1600], edge_label_index=[2, 1600])\n"
     ]
    }
   ],
   "source": [
    "from torch_geometric.transforms import RandomLinkSplit\n",
    "\n",
    "transform = RandomLinkSplit(\n",
    "    num_val=0.05,        # 5% for validation\n",
    "    num_test=0.10,       # 10% for testing\n",
    "    is_undirected=True,  # True if your graph is undirected (user <-> game is undirected)\n",
    "    add_negative_train_samples=False  # We will do negative sampling manually during training\n",
    ")\n",
    "\n",
    "# Apply the transform\n",
    "train_data, val_data, test_data = transform(graph)\n",
    "\n",
    "print(train_data)\n",
    "print(val_data)\n",
    "print(test_data)"
   ]
  },
  {
   "cell_type": "markdown",
   "id": "df710164",
   "metadata": {},
   "source": [
    "Encoder"
   ]
  },
  {
   "cell_type": "code",
   "execution_count": 190,
   "id": "84a9e024",
   "metadata": {},
   "outputs": [],
   "source": [
    "from torch_geometric.nn import SAGEConv\n",
    "import torch.nn as nn\n",
    "import torch.nn.functional as F"
   ]
  },
  {
   "cell_type": "code",
   "execution_count": 191,
   "id": "b7680bca",
   "metadata": {},
   "outputs": [],
   "source": [
    "class GNNEncoder(nn.Module):\n",
    "    def __init__(self, in_channels, hidden_channels):\n",
    "        super().__init__()\n",
    "        self.conv1 = SAGEConv(in_channels, hidden_channels)\n",
    "        self.conv2 = SAGEConv(hidden_channels, hidden_channels)\n",
    "    def forward(self, X, edge_index):\n",
    "        X = self.conv1(X, edge_index)\n",
    "        X = F.relu(X)\n",
    "        X = self.conv2(X, edge_index)\n",
    "        return X"
   ]
  },
  {
   "cell_type": "code",
   "execution_count": 192,
   "id": "e740263d",
   "metadata": {},
   "outputs": [],
   "source": [
    "class LinkPredictor(nn.Module):\n",
    "    def __init__(self, hidden_channels):\n",
    "        super().__init__()\n",
    "        self.lin = nn.Linear(hidden_channels*2, 1)\n",
    "    def forward(self, i, j):\n",
    "        X = torch.cat([i,j], dim=1)\n",
    "        return torch.sigmoid(self.lin(X))"
   ]
  },
  {
   "cell_type": "code",
   "execution_count": 195,
   "id": "67408535",
   "metadata": {},
   "outputs": [],
   "source": [
    "import torch.optim as optim\n",
    "\n",
    "device = torch.device('cuda' if torch.cuda.is_available() else 'mps')\n",
    "\n",
    "hidden_channels = 128\n",
    "encoder = GNNEncoder(in_channels=graph.num_node_features, hidden_channels=hidden_channels).to(device)\n",
    "predictor = LinkPredictor(hidden_channels=hidden_channels).to(device)\n",
    "\n",
    "optimizer = optim.Adam(list(encoder.parameters()) + list(predictor.parameters()), lr=0.001)\n",
    "\n",
    "train_data = train_data.to(device)\n",
    "val_data = val_data.to(device)\n",
    "test_data = test_data.to(device)"
   ]
  },
  {
   "cell_type": "code",
   "execution_count": 196,
   "id": "99ff9239",
   "metadata": {},
   "outputs": [
    {
     "data": {
      "text/plain": [
       "Data(x=[13842, 768], edge_index=[2, 14402], edge_y=[1996413, 1], edge_label=[1600], edge_label_index=[2, 1600])"
      ]
     },
     "execution_count": 196,
     "metadata": {},
     "output_type": "execute_result"
    }
   ],
   "source": [
    "test_data"
   ]
  },
  {
   "cell_type": "code",
   "execution_count": 197,
   "id": "f550d2cd",
   "metadata": {},
   "outputs": [],
   "source": [
    "def train():\n",
    "    encoder.train()\n",
    "    predictor.train()\n",
    "    optimizer.zero_grad()\n",
    "    M = encoder(train_data.x, train_data.edge_index)\n",
    "    preds = predictor(M[train_data.edge_label_index[0]], M[train_data.edge_label_index[1]])\n",
    "    loss = F.binary_cross_entropy(preds.squeeze(), train_data.edge_label.float())\n",
    "    loss.backward()\n",
    "    optimizer.step()\n",
    "    return loss.item()\n",
    "\n",
    "@torch.no_grad()\n",
    "def test(test_data):\n",
    "    encoder.eval()\n",
    "    predictor.eval()\n",
    "    M = encoder(train_data.x, train_data.edge_index)\n",
    "    preds = predictor(\n",
    "        M[test_data.edge_label_index[0]], \n",
    "        M[test_data.edge_label_index[1]]\n",
    "    )\n",
    "    labels = test_data.edge_label.float()\n",
    "\n",
    "    pred_labels = (preds.squeeze() > 0.5).float()\n",
    "\n",
    "    acc = (pred_labels == labels).sum().item() / labels.size(0)\n",
    "    return acc"
   ]
  },
  {
   "cell_type": "code",
   "execution_count": 198,
   "id": "faee5a6a",
   "metadata": {},
   "outputs": [],
   "source": [
    "epochs = 50"
   ]
  },
  {
   "cell_type": "code",
   "execution_count": 199,
   "id": "adc39a8c",
   "metadata": {},
   "outputs": [
    {
     "name": "stderr",
     "output_type": "stream",
     "text": [
      " 10%|█         | 5/50 [00:00<00:05,  8.81it/s]"
     ]
    },
    {
     "name": "stdout",
     "output_type": "stream",
     "text": [
      "Epoch 01, Loss: 0.7209, Val Acc: 0.5613\n",
      "Epoch 02, Loss: 0.3528, Val Acc: 0.5312\n",
      "Epoch 03, Loss: 0.1432, Val Acc: 0.5012\n",
      "Epoch 04, Loss: 0.0426, Val Acc: 0.5000\n",
      "Epoch 05, Loss: 0.0103, Val Acc: 0.5000\n",
      "Epoch 06, Loss: 0.0023, Val Acc: 0.5000\n",
      "Epoch 07, Loss: 0.0005, Val Acc: 0.5000\n"
     ]
    },
    {
     "name": "stderr",
     "output_type": "stream",
     "text": [
      " 26%|██▌       | 13/50 [00:00<00:01, 19.80it/s]"
     ]
    },
    {
     "name": "stdout",
     "output_type": "stream",
     "text": [
      "Epoch 08, Loss: 0.0001, Val Acc: 0.5000\n",
      "Epoch 09, Loss: 0.0000, Val Acc: 0.5000\n",
      "Epoch 10, Loss: 0.0000, Val Acc: 0.5000\n",
      "Epoch 11, Loss: 0.0000, Val Acc: 0.5000\n",
      "Epoch 12, Loss: 0.0000, Val Acc: 0.5000\n",
      "Epoch 13, Loss: 0.0000, Val Acc: 0.5000\n",
      "Epoch 14, Loss: 0.0000, Val Acc: 0.5000\n"
     ]
    },
    {
     "name": "stderr",
     "output_type": "stream",
     "text": [
      " 42%|████▏     | 21/50 [00:01<00:01, 26.53it/s]"
     ]
    },
    {
     "name": "stdout",
     "output_type": "stream",
     "text": [
      "Epoch 15, Loss: 0.0000, Val Acc: 0.5000\n",
      "Epoch 16, Loss: 0.0000, Val Acc: 0.5000\n",
      "Epoch 17, Loss: 0.0000, Val Acc: 0.5000\n",
      "Epoch 18, Loss: 0.0000, Val Acc: 0.5000\n",
      "Epoch 19, Loss: 0.0000, Val Acc: 0.5000\n",
      "Epoch 20, Loss: 0.0000, Val Acc: 0.5000\n",
      "Epoch 21, Loss: 0.0000, Val Acc: 0.5000\n"
     ]
    },
    {
     "name": "stderr",
     "output_type": "stream",
     "text": [
      " 50%|█████     | 25/50 [00:01<00:00, 28.85it/s]"
     ]
    },
    {
     "name": "stdout",
     "output_type": "stream",
     "text": [
      "Epoch 22, Loss: 0.0000, Val Acc: 0.5000\n",
      "Epoch 23, Loss: 0.0000, Val Acc: 0.5000\n",
      "Epoch 24, Loss: 0.0000, Val Acc: 0.5000\n",
      "Epoch 25, Loss: 0.0000, Val Acc: 0.5000\n",
      "Epoch 26, Loss: 0.0000, Val Acc: 0.5000\n",
      "Epoch 27, Loss: 0.0000, Val Acc: 0.5000\n",
      "Epoch 28, Loss: 0.0000, Val Acc: 0.5000\n"
     ]
    },
    {
     "name": "stderr",
     "output_type": "stream",
     "text": [
      " 66%|██████▌   | 33/50 [00:01<00:00, 31.65it/s]"
     ]
    },
    {
     "name": "stdout",
     "output_type": "stream",
     "text": [
      "Epoch 29, Loss: 0.0000, Val Acc: 0.5000\n",
      "Epoch 30, Loss: 0.0000, Val Acc: 0.5000\n",
      "Epoch 31, Loss: 0.0000, Val Acc: 0.5000\n",
      "Epoch 32, Loss: 0.0000, Val Acc: 0.5000\n",
      "Epoch 33, Loss: 0.0000, Val Acc: 0.5000\n",
      "Epoch 34, Loss: 0.0000, Val Acc: 0.5000\n",
      "Epoch 35, Loss: 0.0000, Val Acc: 0.5000\n"
     ]
    },
    {
     "name": "stderr",
     "output_type": "stream",
     "text": [
      " 82%|████████▏ | 41/50 [00:01<00:00, 33.01it/s]"
     ]
    },
    {
     "name": "stdout",
     "output_type": "stream",
     "text": [
      "Epoch 36, Loss: 0.0000, Val Acc: 0.5000\n",
      "Epoch 37, Loss: 0.0000, Val Acc: 0.5000\n",
      "Epoch 38, Loss: 0.0000, Val Acc: 0.5000\n",
      "Epoch 39, Loss: 0.0000, Val Acc: 0.5000\n",
      "Epoch 40, Loss: 0.0000, Val Acc: 0.5000\n",
      "Epoch 41, Loss: 0.0000, Val Acc: 0.5000\n",
      "Epoch 42, Loss: 0.0000, Val Acc: 0.5000\n"
     ]
    },
    {
     "name": "stderr",
     "output_type": "stream",
     "text": [
      " 98%|█████████▊| 49/50 [00:01<00:00, 33.63it/s]"
     ]
    },
    {
     "name": "stdout",
     "output_type": "stream",
     "text": [
      "Epoch 43, Loss: 0.0000, Val Acc: 0.5000\n",
      "Epoch 44, Loss: 0.0000, Val Acc: 0.5000\n",
      "Epoch 45, Loss: 0.0000, Val Acc: 0.5000\n",
      "Epoch 46, Loss: 0.0000, Val Acc: 0.5000\n",
      "Epoch 47, Loss: 0.0000, Val Acc: 0.5000\n",
      "Epoch 48, Loss: 0.0000, Val Acc: 0.5000\n",
      "Epoch 49, Loss: 0.0000, Val Acc: 0.5000\n"
     ]
    },
    {
     "name": "stderr",
     "output_type": "stream",
     "text": [
      "100%|██████████| 50/50 [00:02<00:00, 24.75it/s]"
     ]
    },
    {
     "name": "stdout",
     "output_type": "stream",
     "text": [
      "Epoch 50, Loss: 0.0000, Val Acc: 0.5000\n",
      "\n",
      "Test Accuracy: 0.5000\n"
     ]
    },
    {
     "name": "stderr",
     "output_type": "stream",
     "text": [
      "\n"
     ]
    }
   ],
   "source": [
    "for epoch in tqdm(range(1, epochs + 1)):\n",
    "    loss = train()\n",
    "    val_acc = test(val_data)\n",
    "    print(f'Epoch {epoch:02d}, Loss: {loss:.4f}, Val Acc: {val_acc:.4f}')\n",
    "\n",
    "test_acc = test(test_data)\n",
    "print(f'\\nTest Accuracy: {test_acc:.4f}')"
   ]
  },
  {
   "cell_type": "code",
   "execution_count": 200,
   "id": "6b92eb34",
   "metadata": {},
   "outputs": [],
   "source": [
    "@torch.no_grad()\n",
    "def recommend_new_games_for_user(user_idx, train_data, top_k=5):\n",
    "    encoder.eval()\n",
    "    predictor.eval()\n",
    "\n",
    "    # Step 1: Get node embeddings\n",
    "    z = encoder(train_data.x, train_data.edge_index)\n",
    "\n",
    "    user_embeddings = z[:num_users]\n",
    "    game_embeddings = z[num_users:]\n",
    "\n",
    "    user_emb = user_embeddings[user_idx].unsqueeze(0)\n",
    "    user_emb_expanded = user_emb.expand(game_embeddings.size(0), -1)\n",
    "\n",
    "    # Step 2: Predict scores for all games\n",
    "    scores = predictor(user_emb_expanded, game_embeddings).squeeze()\n",
    "\n",
    "    # Step 3: Find already played games\n",
    "    # Find edges where source == user_idx\n",
    "    user_edges = train_data.edge_index[0] == user_idx\n",
    "    played_game_indices = train_data.edge_index[1][user_edges] - num_users  # get game indices\n",
    "\n",
    "    played_game_indices = played_game_indices.tolist()\n",
    "\n",
    "    # Step 4: Mask scores of already played games\n",
    "    scores[played_game_indices] = -1e9  # set played games' scores very low so they won't be selected\n",
    "\n",
    "    # Step 5: Pick top-k games\n",
    "    top_scores, top_game_indices = torch.topk(scores, k=top_k)\n",
    "\n",
    "    recommendations = []\n",
    "    for i, game_idx in enumerate(top_game_indices):\n",
    "        game_id = unique_games[game_idx.item()]  # map back to real game ID\n",
    "        score = top_scores[i].item()\n",
    "        recommendations.append((game_id, score))\n",
    "    return recommendations"
   ]
  },
  {
   "cell_type": "code",
   "execution_count": 203,
   "id": "af272d85",
   "metadata": {},
   "outputs": [
    {
     "name": "stdout",
     "output_type": "stream",
     "text": [
      "\n",
      "Top 5 new game recommendations for User 0:\n",
      "Rank 1: Game ID = TrackMania Nations Forever, Score = 1.0000\n",
      "Rank 2: Game ID = Tomb Raider, Score = 1.0000\n",
      "Rank 3: Game ID = Batman: Arkham Origins, Score = 1.0000\n",
      "Rank 4: Game ID = Rhiannon: Curse of the Four Branches, Score = 1.0000\n",
      "Rank 5: Game ID = Unturned, Score = 1.0000\n"
     ]
    }
   ],
   "source": [
    "user_idx = 0\n",
    "top_k = 5\n",
    "recommendations = recommend_new_games_for_user(user_idx=user_idx, train_data=train_data, top_k=top_k)\n",
    "\n",
    "print(f\"\\nTop {top_k} new game recommendations for User {user_idx}:\")\n",
    "for rank, (game_id, score) in enumerate(recommendations, start=1):\n",
    "    print(f\"Rank {rank}: Game ID = {game_mapper[game_id]}, Score = {score:.4f}\")"
   ]
  },
  {
   "cell_type": "code",
   "execution_count": 202,
   "id": "38a5d621",
   "metadata": {},
   "outputs": [],
   "source": [
    "# from torch_geometric.utils import to_networkx\n",
    "# import networkx as nx\n",
    "\n",
    "# # Convert to NetworkX graph\n",
    "# G = to_networkx(data, to_undirected=True)\n",
    "\n",
    "# import matplotlib.pyplot as plt\n",
    "\n",
    "# plt.figure(figsize=(12, 12))\n",
    "# pos = nx.spring_layout(G, seed=42)  # spring layout (force-directed)\n",
    "\n",
    "# nx.draw(\n",
    "#     G,\n",
    "#     pos,\n",
    "#     node_size=10, \n",
    "#     edge_color=\"gray\", \n",
    "#     alpha=0.7,\n",
    "#     node_color=\"blue\"\n",
    "# )\n",
    "# plt.title(\"User-Game Bipartite Graph Visualization\")\n",
    "# plt.show()"
   ]
  },
  {
   "cell_type": "markdown",
   "id": "e7dce9c1",
   "metadata": {},
   "source": [
    "Actionable Steps"
   ]
  },
  {
   "cell_type": "markdown",
   "id": "d72a710d",
   "metadata": {},
   "source": []
  }
 ],
 "metadata": {
  "kernelspec": {
   "display_name": "geometric",
   "language": "python",
   "name": "python3"
  },
  "language_info": {
   "codemirror_mode": {
    "name": "ipython",
    "version": 3
   },
   "file_extension": ".py",
   "mimetype": "text/x-python",
   "name": "python",
   "nbconvert_exporter": "python",
   "pygments_lexer": "ipython3",
   "version": "3.12.9"
  }
 },
 "nbformat": 4,
 "nbformat_minor": 5
}
